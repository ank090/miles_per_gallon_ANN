{
  "nbformat": 4,
  "nbformat_minor": 0,
  "metadata": {
    "colab": {
      "name": "auto_mpg.ipynb",
      "provenance": [],
      "authorship_tag": "ABX9TyP1WKGhewWb3Ak8Q4s3cqTH",
      "include_colab_link": true
    },
    "kernelspec": {
      "name": "python3",
      "display_name": "Python 3"
    },
    "language_info": {
      "name": "python"
    }
  },
  "cells": [
    {
      "cell_type": "markdown",
      "metadata": {
        "id": "view-in-github",
        "colab_type": "text"
      },
      "source": [
        "<a href=\"https://colab.research.google.com/github/ank090/miles_per_gallon_ANN/blob/main/auto_mpg.ipynb\" target=\"_parent\"><img src=\"https://colab.research.google.com/assets/colab-badge.svg\" alt=\"Open In Colab\"/></a>"
      ]
    },
    {
      "cell_type": "markdown",
      "metadata": {
        "id": "HYz7PrvXwzfK"
      },
      "source": [
        "Importing Libraries"
      ]
    },
    {
      "cell_type": "code",
      "metadata": {
        "id": "64bxpI_NwzKA"
      },
      "source": [
        "import tensorflow as tf\n",
        "import pandas as pd\n",
        "from sklearn.model_selection import train_test_split\n",
        "from sklearn.preprocessing import StandardScaler\n",
        "import re\n",
        "import numpy as np\n",
        "from sklearn.metrics import confusion_matrix ,accuracy_score,r2_score"
      ],
      "execution_count": 14,
      "outputs": []
    },
    {
      "cell_type": "markdown",
      "metadata": {
        "id": "TmglbTBRwy4W"
      },
      "source": [
        "Loading Dataset"
      ]
    },
    {
      "cell_type": "code",
      "metadata": {
        "colab": {
          "base_uri": "https://localhost:8080/",
          "height": 424
        },
        "id": "3Jbu8ILmFJ_T",
        "outputId": "62186803-0528-49c7-9f01-1d5e9c0e824c"
      },
      "source": [
        "dataset=pd.read_csv('auto-mpg.csv')\n",
        "dataset"
      ],
      "execution_count": 15,
      "outputs": [
        {
          "output_type": "execute_result",
          "data": {
            "text/html": [
              "<div>\n",
              "<style scoped>\n",
              "    .dataframe tbody tr th:only-of-type {\n",
              "        vertical-align: middle;\n",
              "    }\n",
              "\n",
              "    .dataframe tbody tr th {\n",
              "        vertical-align: top;\n",
              "    }\n",
              "\n",
              "    .dataframe thead th {\n",
              "        text-align: right;\n",
              "    }\n",
              "</style>\n",
              "<table border=\"1\" class=\"dataframe\">\n",
              "  <thead>\n",
              "    <tr style=\"text-align: right;\">\n",
              "      <th></th>\n",
              "      <th>mpg</th>\n",
              "      <th>cylinders</th>\n",
              "      <th>displacement</th>\n",
              "      <th>horsepower</th>\n",
              "      <th>weight</th>\n",
              "      <th>acceleration</th>\n",
              "      <th>model year</th>\n",
              "      <th>origin</th>\n",
              "      <th>car name</th>\n",
              "    </tr>\n",
              "  </thead>\n",
              "  <tbody>\n",
              "    <tr>\n",
              "      <th>0</th>\n",
              "      <td>18.0</td>\n",
              "      <td>8</td>\n",
              "      <td>307.0</td>\n",
              "      <td>130</td>\n",
              "      <td>3504</td>\n",
              "      <td>12.0</td>\n",
              "      <td>70</td>\n",
              "      <td>1</td>\n",
              "      <td>chevrolet chevelle malibu</td>\n",
              "    </tr>\n",
              "    <tr>\n",
              "      <th>1</th>\n",
              "      <td>15.0</td>\n",
              "      <td>8</td>\n",
              "      <td>350.0</td>\n",
              "      <td>165</td>\n",
              "      <td>3693</td>\n",
              "      <td>11.5</td>\n",
              "      <td>70</td>\n",
              "      <td>1</td>\n",
              "      <td>buick skylark 320</td>\n",
              "    </tr>\n",
              "    <tr>\n",
              "      <th>2</th>\n",
              "      <td>18.0</td>\n",
              "      <td>8</td>\n",
              "      <td>318.0</td>\n",
              "      <td>150</td>\n",
              "      <td>3436</td>\n",
              "      <td>11.0</td>\n",
              "      <td>70</td>\n",
              "      <td>1</td>\n",
              "      <td>plymouth satellite</td>\n",
              "    </tr>\n",
              "    <tr>\n",
              "      <th>3</th>\n",
              "      <td>16.0</td>\n",
              "      <td>8</td>\n",
              "      <td>304.0</td>\n",
              "      <td>150</td>\n",
              "      <td>3433</td>\n",
              "      <td>12.0</td>\n",
              "      <td>70</td>\n",
              "      <td>1</td>\n",
              "      <td>amc rebel sst</td>\n",
              "    </tr>\n",
              "    <tr>\n",
              "      <th>4</th>\n",
              "      <td>17.0</td>\n",
              "      <td>8</td>\n",
              "      <td>302.0</td>\n",
              "      <td>140</td>\n",
              "      <td>3449</td>\n",
              "      <td>10.5</td>\n",
              "      <td>70</td>\n",
              "      <td>1</td>\n",
              "      <td>ford torino</td>\n",
              "    </tr>\n",
              "    <tr>\n",
              "      <th>...</th>\n",
              "      <td>...</td>\n",
              "      <td>...</td>\n",
              "      <td>...</td>\n",
              "      <td>...</td>\n",
              "      <td>...</td>\n",
              "      <td>...</td>\n",
              "      <td>...</td>\n",
              "      <td>...</td>\n",
              "      <td>...</td>\n",
              "    </tr>\n",
              "    <tr>\n",
              "      <th>393</th>\n",
              "      <td>27.0</td>\n",
              "      <td>4</td>\n",
              "      <td>140.0</td>\n",
              "      <td>86</td>\n",
              "      <td>2790</td>\n",
              "      <td>15.6</td>\n",
              "      <td>82</td>\n",
              "      <td>1</td>\n",
              "      <td>ford mustang gl</td>\n",
              "    </tr>\n",
              "    <tr>\n",
              "      <th>394</th>\n",
              "      <td>44.0</td>\n",
              "      <td>4</td>\n",
              "      <td>97.0</td>\n",
              "      <td>52</td>\n",
              "      <td>2130</td>\n",
              "      <td>24.6</td>\n",
              "      <td>82</td>\n",
              "      <td>2</td>\n",
              "      <td>vw pickup</td>\n",
              "    </tr>\n",
              "    <tr>\n",
              "      <th>395</th>\n",
              "      <td>32.0</td>\n",
              "      <td>4</td>\n",
              "      <td>135.0</td>\n",
              "      <td>84</td>\n",
              "      <td>2295</td>\n",
              "      <td>11.6</td>\n",
              "      <td>82</td>\n",
              "      <td>1</td>\n",
              "      <td>dodge rampage</td>\n",
              "    </tr>\n",
              "    <tr>\n",
              "      <th>396</th>\n",
              "      <td>28.0</td>\n",
              "      <td>4</td>\n",
              "      <td>120.0</td>\n",
              "      <td>79</td>\n",
              "      <td>2625</td>\n",
              "      <td>18.6</td>\n",
              "      <td>82</td>\n",
              "      <td>1</td>\n",
              "      <td>ford ranger</td>\n",
              "    </tr>\n",
              "    <tr>\n",
              "      <th>397</th>\n",
              "      <td>31.0</td>\n",
              "      <td>4</td>\n",
              "      <td>119.0</td>\n",
              "      <td>82</td>\n",
              "      <td>2720</td>\n",
              "      <td>19.4</td>\n",
              "      <td>82</td>\n",
              "      <td>1</td>\n",
              "      <td>chevy s-10</td>\n",
              "    </tr>\n",
              "  </tbody>\n",
              "</table>\n",
              "<p>398 rows × 9 columns</p>\n",
              "</div>"
            ],
            "text/plain": [
              "      mpg  cylinders  ...  origin                   car name\n",
              "0    18.0          8  ...       1  chevrolet chevelle malibu\n",
              "1    15.0          8  ...       1          buick skylark 320\n",
              "2    18.0          8  ...       1         plymouth satellite\n",
              "3    16.0          8  ...       1              amc rebel sst\n",
              "4    17.0          8  ...       1                ford torino\n",
              "..    ...        ...  ...     ...                        ...\n",
              "393  27.0          4  ...       1            ford mustang gl\n",
              "394  44.0          4  ...       2                  vw pickup\n",
              "395  32.0          4  ...       1              dodge rampage\n",
              "396  28.0          4  ...       1                ford ranger\n",
              "397  31.0          4  ...       1                 chevy s-10\n",
              "\n",
              "[398 rows x 9 columns]"
            ]
          },
          "metadata": {},
          "execution_count": 15
        }
      ]
    },
    {
      "cell_type": "markdown",
      "metadata": {
        "id": "10kke6PR1tW_"
      },
      "source": [
        "cleaninng data"
      ]
    },
    {
      "cell_type": "code",
      "metadata": {
        "id": "6LOzHxowzSyq"
      },
      "source": [
        "dataset['horsepower']=dataset['horsepower'].replace(\"?\",0).astype(np.float)\n",
        "dataset['horsepower']=dataset['horsepower'].replace(0,)"
      ],
      "execution_count": 16,
      "outputs": []
    },
    {
      "cell_type": "code",
      "metadata": {
        "id": "4E7M8gY500eb"
      },
      "source": [
        "x=dataset.iloc[:,1:-1].values\n",
        "y=dataset.iloc[:,0].values"
      ],
      "execution_count": 17,
      "outputs": []
    },
    {
      "cell_type": "markdown",
      "metadata": {
        "id": "owHL2tg8zLQj"
      },
      "source": [
        "train-test split"
      ]
    },
    {
      "cell_type": "code",
      "metadata": {
        "id": "3x069YCLzLBS"
      },
      "source": [
        "xtrain,xtest,ytrain,ytest=train_test_split(x,y,test_size=0.3,random_state=0)"
      ],
      "execution_count": 18,
      "outputs": []
    },
    {
      "cell_type": "markdown",
      "metadata": {
        "id": "rAGWHl5HxEGJ"
      },
      "source": [
        "Feature Scaling "
      ]
    },
    {
      "cell_type": "code",
      "metadata": {
        "id": "EIYZOcxlxD1G"
      },
      "source": [
        "sc=StandardScaler()\n",
        "xtrain=sc.fit_transform(xtrain)\n",
        "xtest=sc.fit_transform(xtest)"
      ],
      "execution_count": 19,
      "outputs": []
    },
    {
      "cell_type": "markdown",
      "metadata": {
        "id": "Z-DFkmKz7M5j"
      },
      "source": [
        "Initializing Ann "
      ]
    },
    {
      "cell_type": "code",
      "metadata": {
        "id": "u4y1xsm07Moa"
      },
      "source": [
        "ann=tf.keras.models.Sequential()"
      ],
      "execution_count": 20,
      "outputs": []
    },
    {
      "cell_type": "markdown",
      "metadata": {
        "id": "ckbtEnjU7jsc"
      },
      "source": [
        "1st hidden layer and input layer"
      ]
    },
    {
      "cell_type": "code",
      "metadata": {
        "id": "1Tl7ZoS47jfF"
      },
      "source": [
        "ann.add(tf.keras.layers.Dense(units=9,activation='relu'))"
      ],
      "execution_count": 21,
      "outputs": []
    },
    {
      "cell_type": "markdown",
      "metadata": {
        "id": "zKJP-dtL8Wnj"
      },
      "source": [
        "2nd hidden layer"
      ]
    },
    {
      "cell_type": "code",
      "metadata": {
        "id": "YNAKR8oU8WBu"
      },
      "source": [
        "ann.add(tf.keras.layers.Dense(units=9,activation='relu'))"
      ],
      "execution_count": 22,
      "outputs": []
    },
    {
      "cell_type": "markdown",
      "metadata": {
        "id": "wAHvGHRO8bFC"
      },
      "source": [
        "output layer"
      ]
    },
    {
      "cell_type": "code",
      "metadata": {
        "id": "ONxs_FSa8a1I"
      },
      "source": [
        "ann.add(tf.keras.layers.Dense(units=1))"
      ],
      "execution_count": 23,
      "outputs": []
    },
    {
      "cell_type": "markdown",
      "metadata": {
        "id": "YBGXwX9Y8h3h"
      },
      "source": [
        "Compling the ANN"
      ]
    },
    {
      "cell_type": "code",
      "metadata": {
        "id": "3mvgL_068hoG"
      },
      "source": [
        "ann.compile(optimizer='adam',loss='mean_squared_error',metrics=['mse','mae'])"
      ],
      "execution_count": 24,
      "outputs": []
    },
    {
      "cell_type": "markdown",
      "metadata": {
        "id": "3m3G7Nc-96s9"
      },
      "source": [
        "Training ANN"
      ]
    },
    {
      "cell_type": "code",
      "metadata": {
        "colab": {
          "base_uri": "https://localhost:8080/"
        },
        "id": "5Jk2VNbK96eL",
        "outputId": "41c90db7-65c7-4b06-adcc-efbbb829d727"
      },
      "source": [
        "ann.fit(xtrain,ytrain,batch_size=10, epochs=100)"
      ],
      "execution_count": 25,
      "outputs": [
        {
          "output_type": "stream",
          "name": "stdout",
          "text": [
            "Epoch 1/100\n",
            "28/28 [==============================] - 0s 1ms/step - loss: 577.7108 - mse: 577.7108 - mae: 22.7550\n",
            "Epoch 2/100\n",
            "28/28 [==============================] - 0s 1ms/step - loss: 559.3446 - mse: 559.3446 - mae: 22.3595\n",
            "Epoch 3/100\n",
            "28/28 [==============================] - 0s 1ms/step - loss: 534.8093 - mse: 534.8093 - mae: 21.8267\n",
            "Epoch 4/100\n",
            "28/28 [==============================] - 0s 1ms/step - loss: 500.1885 - mse: 500.1885 - mae: 21.0572\n",
            "Epoch 5/100\n",
            "28/28 [==============================] - 0s 1ms/step - loss: 450.4643 - mse: 450.4643 - mae: 19.9168\n",
            "Epoch 6/100\n",
            "28/28 [==============================] - 0s 1ms/step - loss: 384.5224 - mse: 384.5224 - mae: 18.2786\n",
            "Epoch 7/100\n",
            "28/28 [==============================] - 0s 1ms/step - loss: 307.2726 - mse: 307.2726 - mae: 16.1388\n",
            "Epoch 8/100\n",
            "28/28 [==============================] - 0s 1ms/step - loss: 229.6326 - mse: 229.6326 - mae: 13.7183\n",
            "Epoch 9/100\n",
            "28/28 [==============================] - 0s 1ms/step - loss: 161.0588 - mse: 161.0588 - mae: 11.3126\n",
            "Epoch 10/100\n",
            "28/28 [==============================] - 0s 1ms/step - loss: 107.6691 - mse: 107.6691 - mae: 9.1632\n",
            "Epoch 11/100\n",
            "28/28 [==============================] - 0s 1ms/step - loss: 73.2760 - mse: 73.2760 - mae: 7.2663\n",
            "Epoch 12/100\n",
            "28/28 [==============================] - 0s 1ms/step - loss: 54.6835 - mse: 54.6835 - mae: 5.9878\n",
            "Epoch 13/100\n",
            "28/28 [==============================] - 0s 1ms/step - loss: 45.3733 - mse: 45.3733 - mae: 5.3295\n",
            "Epoch 14/100\n",
            "28/28 [==============================] - 0s 1ms/step - loss: 40.0628 - mse: 40.0628 - mae: 4.9569\n",
            "Epoch 15/100\n",
            "28/28 [==============================] - 0s 1ms/step - loss: 36.3782 - mse: 36.3782 - mae: 4.7032\n",
            "Epoch 16/100\n",
            "28/28 [==============================] - 0s 1ms/step - loss: 33.6321 - mse: 33.6321 - mae: 4.5248\n",
            "Epoch 17/100\n",
            "28/28 [==============================] - 0s 1ms/step - loss: 31.3730 - mse: 31.3730 - mae: 4.3902\n",
            "Epoch 18/100\n",
            "28/28 [==============================] - 0s 1ms/step - loss: 29.2256 - mse: 29.2256 - mae: 4.2409\n",
            "Epoch 19/100\n",
            "28/28 [==============================] - 0s 1ms/step - loss: 27.5156 - mse: 27.5156 - mae: 4.1122\n",
            "Epoch 20/100\n",
            "28/28 [==============================] - 0s 1ms/step - loss: 25.8497 - mse: 25.8497 - mae: 4.0019\n",
            "Epoch 21/100\n",
            "28/28 [==============================] - 0s 1ms/step - loss: 24.4600 - mse: 24.4600 - mae: 3.8737\n",
            "Epoch 22/100\n",
            "28/28 [==============================] - 0s 1ms/step - loss: 23.1602 - mse: 23.1602 - mae: 3.7765\n",
            "Epoch 23/100\n",
            "28/28 [==============================] - 0s 2ms/step - loss: 21.9676 - mse: 21.9676 - mae: 3.6902\n",
            "Epoch 24/100\n",
            "28/28 [==============================] - 0s 1ms/step - loss: 21.0426 - mse: 21.0426 - mae: 3.6059\n",
            "Epoch 25/100\n",
            "28/28 [==============================] - 0s 1ms/step - loss: 20.0942 - mse: 20.0942 - mae: 3.5146\n",
            "Epoch 26/100\n",
            "28/28 [==============================] - 0s 1ms/step - loss: 19.3009 - mse: 19.3009 - mae: 3.4225\n",
            "Epoch 27/100\n",
            "28/28 [==============================] - 0s 1ms/step - loss: 18.5569 - mse: 18.5569 - mae: 3.3482\n",
            "Epoch 28/100\n",
            "28/28 [==============================] - 0s 1ms/step - loss: 17.9169 - mse: 17.9169 - mae: 3.2948\n",
            "Epoch 29/100\n",
            "28/28 [==============================] - 0s 1ms/step - loss: 17.3050 - mse: 17.3050 - mae: 3.2264\n",
            "Epoch 30/100\n",
            "28/28 [==============================] - 0s 1ms/step - loss: 16.8116 - mse: 16.8116 - mae: 3.1771\n",
            "Epoch 31/100\n",
            "28/28 [==============================] - 0s 1ms/step - loss: 16.2853 - mse: 16.2853 - mae: 3.1183\n",
            "Epoch 32/100\n",
            "28/28 [==============================] - 0s 1ms/step - loss: 15.8479 - mse: 15.8479 - mae: 3.0580\n",
            "Epoch 33/100\n",
            "28/28 [==============================] - 0s 1ms/step - loss: 15.5299 - mse: 15.5299 - mae: 3.0174\n",
            "Epoch 34/100\n",
            "28/28 [==============================] - 0s 1ms/step - loss: 15.0389 - mse: 15.0389 - mae: 2.9579\n",
            "Epoch 35/100\n",
            "28/28 [==============================] - 0s 1ms/step - loss: 14.5870 - mse: 14.5870 - mae: 2.8912\n",
            "Epoch 36/100\n",
            "28/28 [==============================] - 0s 1ms/step - loss: 14.2241 - mse: 14.2241 - mae: 2.8515\n",
            "Epoch 37/100\n",
            "28/28 [==============================] - 0s 1ms/step - loss: 13.9279 - mse: 13.9279 - mae: 2.8127\n",
            "Epoch 38/100\n",
            "28/28 [==============================] - 0s 1ms/step - loss: 13.5584 - mse: 13.5584 - mae: 2.7751\n",
            "Epoch 39/100\n",
            "28/28 [==============================] - 0s 1ms/step - loss: 13.3086 - mse: 13.3086 - mae: 2.7326\n",
            "Epoch 40/100\n",
            "28/28 [==============================] - 0s 1ms/step - loss: 13.0550 - mse: 13.0550 - mae: 2.6970\n",
            "Epoch 41/100\n",
            "28/28 [==============================] - 0s 2ms/step - loss: 12.8757 - mse: 12.8757 - mae: 2.6834\n",
            "Epoch 42/100\n",
            "28/28 [==============================] - 0s 1ms/step - loss: 12.5347 - mse: 12.5347 - mae: 2.6343\n",
            "Epoch 43/100\n",
            "28/28 [==============================] - 0s 1ms/step - loss: 12.3155 - mse: 12.3155 - mae: 2.6006\n",
            "Epoch 44/100\n",
            "28/28 [==============================] - 0s 1ms/step - loss: 12.0909 - mse: 12.0909 - mae: 2.5701\n",
            "Epoch 45/100\n",
            "28/28 [==============================] - 0s 1ms/step - loss: 11.9095 - mse: 11.9095 - mae: 2.5505\n",
            "Epoch 46/100\n",
            "28/28 [==============================] - 0s 1ms/step - loss: 11.7051 - mse: 11.7051 - mae: 2.5247\n",
            "Epoch 47/100\n",
            "28/28 [==============================] - 0s 1ms/step - loss: 11.5577 - mse: 11.5577 - mae: 2.4971\n",
            "Epoch 48/100\n",
            "28/28 [==============================] - 0s 1ms/step - loss: 11.3725 - mse: 11.3725 - mae: 2.4732\n",
            "Epoch 49/100\n",
            "28/28 [==============================] - 0s 1ms/step - loss: 11.2175 - mse: 11.2175 - mae: 2.4620\n",
            "Epoch 50/100\n",
            "28/28 [==============================] - 0s 1ms/step - loss: 11.0168 - mse: 11.0168 - mae: 2.4372\n",
            "Epoch 51/100\n",
            "28/28 [==============================] - 0s 1ms/step - loss: 10.8752 - mse: 10.8752 - mae: 2.4108\n",
            "Epoch 52/100\n",
            "28/28 [==============================] - 0s 1ms/step - loss: 10.7707 - mse: 10.7707 - mae: 2.3982\n",
            "Epoch 53/100\n",
            "28/28 [==============================] - 0s 1ms/step - loss: 10.6353 - mse: 10.6353 - mae: 2.3896\n",
            "Epoch 54/100\n",
            "28/28 [==============================] - 0s 1ms/step - loss: 10.4598 - mse: 10.4598 - mae: 2.3611\n",
            "Epoch 55/100\n",
            "28/28 [==============================] - 0s 1ms/step - loss: 10.3531 - mse: 10.3531 - mae: 2.3547\n",
            "Epoch 56/100\n",
            "28/28 [==============================] - 0s 1ms/step - loss: 10.2447 - mse: 10.2447 - mae: 2.3371\n",
            "Epoch 57/100\n",
            "28/28 [==============================] - 0s 1ms/step - loss: 10.1394 - mse: 10.1394 - mae: 2.3243\n",
            "Epoch 58/100\n",
            "28/28 [==============================] - 0s 1ms/step - loss: 10.0257 - mse: 10.0257 - mae: 2.3025\n",
            "Epoch 59/100\n",
            "28/28 [==============================] - 0s 1ms/step - loss: 9.9116 - mse: 9.9116 - mae: 2.2936\n",
            "Epoch 60/100\n",
            "28/28 [==============================] - 0s 1ms/step - loss: 9.7960 - mse: 9.7960 - mae: 2.2803\n",
            "Epoch 61/100\n",
            "28/28 [==============================] - 0s 1ms/step - loss: 9.7046 - mse: 9.7046 - mae: 2.2642\n",
            "Epoch 62/100\n",
            "28/28 [==============================] - 0s 1ms/step - loss: 9.5844 - mse: 9.5844 - mae: 2.2503\n",
            "Epoch 63/100\n",
            "28/28 [==============================] - 0s 1ms/step - loss: 9.6379 - mse: 9.6379 - mae: 2.2641\n",
            "Epoch 64/100\n",
            "28/28 [==============================] - 0s 1ms/step - loss: 9.4211 - mse: 9.4211 - mae: 2.2266\n",
            "Epoch 65/100\n",
            "28/28 [==============================] - 0s 1ms/step - loss: 9.3019 - mse: 9.3019 - mae: 2.2190\n",
            "Epoch 66/100\n",
            "28/28 [==============================] - 0s 1ms/step - loss: 9.2539 - mse: 9.2539 - mae: 2.2089\n",
            "Epoch 67/100\n",
            "28/28 [==============================] - 0s 1ms/step - loss: 9.1138 - mse: 9.1138 - mae: 2.1872\n",
            "Epoch 68/100\n",
            "28/28 [==============================] - 0s 1ms/step - loss: 9.0508 - mse: 9.0508 - mae: 2.1805\n",
            "Epoch 69/100\n",
            "28/28 [==============================] - 0s 1ms/step - loss: 8.9974 - mse: 8.9974 - mae: 2.1885\n",
            "Epoch 70/100\n",
            "28/28 [==============================] - 0s 1ms/step - loss: 8.8777 - mse: 8.8777 - mae: 2.1624\n",
            "Epoch 71/100\n",
            "28/28 [==============================] - 0s 1ms/step - loss: 8.7790 - mse: 8.7790 - mae: 2.1459\n",
            "Epoch 72/100\n",
            "28/28 [==============================] - 0s 1ms/step - loss: 8.7706 - mse: 8.7706 - mae: 2.1409\n",
            "Epoch 73/100\n",
            "28/28 [==============================] - 0s 1ms/step - loss: 8.6442 - mse: 8.6442 - mae: 2.1348\n",
            "Epoch 74/100\n",
            "28/28 [==============================] - 0s 1ms/step - loss: 8.5995 - mse: 8.5995 - mae: 2.1211\n",
            "Epoch 75/100\n",
            "28/28 [==============================] - 0s 1ms/step - loss: 8.5613 - mse: 8.5613 - mae: 2.1229\n",
            "Epoch 76/100\n",
            "28/28 [==============================] - 0s 1ms/step - loss: 8.4616 - mse: 8.4616 - mae: 2.0984\n",
            "Epoch 77/100\n",
            "28/28 [==============================] - 0s 1ms/step - loss: 8.4320 - mse: 8.4320 - mae: 2.0922\n",
            "Epoch 78/100\n",
            "28/28 [==============================] - 0s 1ms/step - loss: 8.3929 - mse: 8.3929 - mae: 2.0987\n",
            "Epoch 79/100\n",
            "28/28 [==============================] - 0s 1ms/step - loss: 8.2601 - mse: 8.2601 - mae: 2.0782\n",
            "Epoch 80/100\n",
            "28/28 [==============================] - 0s 1ms/step - loss: 8.2013 - mse: 8.2013 - mae: 2.0657\n",
            "Epoch 81/100\n",
            "28/28 [==============================] - 0s 1ms/step - loss: 8.1506 - mse: 8.1506 - mae: 2.0603\n",
            "Epoch 82/100\n",
            "28/28 [==============================] - 0s 1ms/step - loss: 8.1399 - mse: 8.1399 - mae: 2.0571\n",
            "Epoch 83/100\n",
            "28/28 [==============================] - 0s 1ms/step - loss: 8.0074 - mse: 8.0074 - mae: 2.0430\n",
            "Epoch 84/100\n",
            "28/28 [==============================] - 0s 1ms/step - loss: 7.9852 - mse: 7.9852 - mae: 2.0300\n",
            "Epoch 85/100\n",
            "28/28 [==============================] - 0s 1ms/step - loss: 7.9730 - mse: 7.9730 - mae: 2.0301\n",
            "Epoch 86/100\n",
            "28/28 [==============================] - 0s 1ms/step - loss: 7.9560 - mse: 7.9560 - mae: 2.0309\n",
            "Epoch 87/100\n",
            "28/28 [==============================] - 0s 1ms/step - loss: 7.8876 - mse: 7.8876 - mae: 2.0215\n",
            "Epoch 88/100\n",
            "28/28 [==============================] - 0s 1ms/step - loss: 7.7959 - mse: 7.7959 - mae: 1.9989\n",
            "Epoch 89/100\n",
            "28/28 [==============================] - 0s 1ms/step - loss: 7.7111 - mse: 7.7111 - mae: 1.9968\n",
            "Epoch 90/100\n",
            "28/28 [==============================] - 0s 1ms/step - loss: 7.6971 - mse: 7.6971 - mae: 1.9873\n",
            "Epoch 91/100\n",
            "28/28 [==============================] - 0s 1ms/step - loss: 7.6324 - mse: 7.6324 - mae: 1.9810\n",
            "Epoch 92/100\n",
            "28/28 [==============================] - 0s 1ms/step - loss: 7.5768 - mse: 7.5768 - mae: 1.9753\n",
            "Epoch 93/100\n",
            "28/28 [==============================] - 0s 1ms/step - loss: 7.5621 - mse: 7.5621 - mae: 1.9689\n",
            "Epoch 94/100\n",
            "28/28 [==============================] - 0s 1ms/step - loss: 7.4846 - mse: 7.4846 - mae: 1.9583\n",
            "Epoch 95/100\n",
            "28/28 [==============================] - 0s 1ms/step - loss: 7.4336 - mse: 7.4336 - mae: 1.9530\n",
            "Epoch 96/100\n",
            "28/28 [==============================] - 0s 1ms/step - loss: 7.4139 - mse: 7.4139 - mae: 1.9408\n",
            "Epoch 97/100\n",
            "28/28 [==============================] - 0s 1ms/step - loss: 7.3850 - mse: 7.3850 - mae: 1.9464\n",
            "Epoch 98/100\n",
            "28/28 [==============================] - 0s 1ms/step - loss: 7.4166 - mse: 7.4166 - mae: 1.9643\n",
            "Epoch 99/100\n",
            "28/28 [==============================] - 0s 1ms/step - loss: 7.3239 - mse: 7.3239 - mae: 1.9304\n",
            "Epoch 100/100\n",
            "28/28 [==============================] - 0s 1ms/step - loss: 7.3068 - mse: 7.3068 - mae: 1.9223\n"
          ]
        },
        {
          "output_type": "execute_result",
          "data": {
            "text/plain": [
              "<keras.callbacks.History at 0x7ff5c17ea2d0>"
            ]
          },
          "metadata": {},
          "execution_count": 25
        }
      ]
    },
    {
      "cell_type": "markdown",
      "metadata": {
        "id": "rD2rBcxe-JPt"
      },
      "source": [
        "Testing Ann"
      ]
    },
    {
      "cell_type": "code",
      "metadata": {
        "colab": {
          "base_uri": "https://localhost:8080/"
        },
        "id": "DEb7JIoQ-JBk",
        "outputId": "9e48b2c7-2682-4bac-bcb7-51e7f64c02d4"
      },
      "source": [
        "ypred=ann.predict(xtest)\n",
        "print('r2 score = ',r2_score(ytest,ypred))"
      ],
      "execution_count": 26,
      "outputs": [
        {
          "output_type": "stream",
          "name": "stdout",
          "text": [
            "r2 score =  0.8550325254717582\n"
          ]
        }
      ]
    }
  ]
}